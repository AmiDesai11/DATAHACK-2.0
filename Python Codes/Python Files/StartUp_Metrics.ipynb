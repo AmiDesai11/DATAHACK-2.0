{
 "cells": [
  {
   "cell_type": "code",
   "execution_count": 1,
   "id": "54b12b82",
   "metadata": {},
   "outputs": [],
   "source": [
    "import pandas as pd\n",
    "\n",
    "df = pd.read_excel(r\"C:\\Users\\DELL\\Desktop\\Projects\\Data Hack 2.0\\Input Data\\StartUp_Funding_Data.xlsx\", sheet_name=\"Funding_Growth\")\n",
    "\n",
    "df_1 = pd.read_excel(r\"C:\\Users\\DELL\\Desktop\\Projects\\Data Hack 2.0\\Output Data\\StartUp Analysis\\AI\\By_Funding.xlsx\")\n",
    "df_2 = pd.read_excel(r\"C:\\Users\\DELL\\Desktop\\Projects\\Data Hack 2.0\\Output Data\\StartUp Analysis\\AI\\By_Investors.xlsx\")\n",
    "df_3 = pd.read_excel(r\"C:\\Users\\DELL\\Desktop\\Projects\\Data Hack 2.0\\Output Data\\StartUp Analysis\\AI\\By_Visibility.xlsx\")\n",
    "\n",
    "df_4 = pd.read_excel(r\"C:\\Users\\DELL\\Desktop\\Projects\\Data Hack 2.0\\Output Data\\StartUp Analysis\\EV\\By_Funding.xlsx\")\n",
    "df_5 = pd.read_excel(r\"C:\\Users\\DELL\\Desktop\\Projects\\Data Hack 2.0\\Output Data\\StartUp Analysis\\EV\\By_Investors.xlsx\")\n",
    "df_6 = pd.read_excel(r\"C:\\Users\\DELL\\Desktop\\Projects\\Data Hack 2.0\\Output Data\\StartUp Analysis\\EV\\By_Visibility.xlsx\")\n",
    "\n",
    "def Funding_Growth_Mapping(df, mapping_df, path):\n",
    "    df[\"Average Funds Growth\"] = df[\"StartUp\"].map(mapping_df.set_index(\"Name\")[\"Average of Growth\"])\n",
    "    df.to_csv(path, index=False)\n",
    "\n",
    "Funding_Growth_Mapping(df_1, df, r\"C:\\Users\\DELL\\Desktop\\Projects\\Data Hack 2.0\\Output Data\\StartUp Analysis\\AI\\Final_By_Funding.csv\")\n",
    "Funding_Growth_Mapping(df_2, df, r\"C:\\Users\\DELL\\Desktop\\Projects\\Data Hack 2.0\\Output Data\\StartUp Analysis\\AI\\Final_By_Investors.csv\")\n",
    "Funding_Growth_Mapping(df_3, df, r\"C:\\Users\\DELL\\Desktop\\Projects\\Data Hack 2.0\\Output Data\\StartUp Analysis\\AI\\Final_By_Visibility.csv\")\n",
    "\n",
    "Funding_Growth_Mapping(df_4, df, r\"C:\\Users\\DELL\\Desktop\\Projects\\Data Hack 2.0\\Output Data\\StartUp Analysis\\EV\\Final_By_Funding.csv\")\n",
    "Funding_Growth_Mapping(df_5, df, r\"C:\\Users\\DELL\\Desktop\\Projects\\Data Hack 2.0\\Output Data\\StartUp Analysis\\EV\\Final_By_Investors.csv\")\n",
    "Funding_Growth_Mapping(df_6, df, r\"C:\\Users\\DELL\\Desktop\\Projects\\Data Hack 2.0\\Output Data\\StartUp Analysis\\EV\\Final_By_Visibility.csv\")"
   ]
  }
 ],
 "metadata": {
  "kernelspec": {
   "display_name": "Python 3 (ipykernel)",
   "language": "python",
   "name": "python3"
  },
  "language_info": {
   "codemirror_mode": {
    "name": "ipython",
    "version": 3
   },
   "file_extension": ".py",
   "mimetype": "text/x-python",
   "name": "python",
   "nbconvert_exporter": "python",
   "pygments_lexer": "ipython3",
   "version": "3.9.16"
  }
 },
 "nbformat": 4,
 "nbformat_minor": 5
}
