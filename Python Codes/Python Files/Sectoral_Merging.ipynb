{
 "cells": [
  {
   "cell_type": "code",
   "execution_count": 1,
   "id": "eb952735",
   "metadata": {},
   "outputs": [],
   "source": [
    "import pandas as pd\n",
    "\n",
    "df_1 = pd.read_csv(\"Secotral_Finance.csv\")\n",
    "df_2 = pd.read_csv(\"Secotral_Funding.csv\")\n",
    "df_3 = pd.read_excel(\"StartUp_App_Data.xlsx\", sheet_name=\"StartUp_App_Data\")\n",
    "\n",
    "df_merged_12 = pd.merge(df_1, df_2, how='inner', on=[\"Name\", \"Sector\"])\n",
    "df_merged_all = pd.merge(df_merged_12, df_3, how='inner', on=[\"Name\"])\n",
    "\n",
    "df_merged_all.to_csv(\"All_Merged_Startups.csv\", index=False)"
   ]
  }
 ],
 "metadata": {
  "kernelspec": {
   "display_name": "Python 3 (ipykernel)",
   "language": "python",
   "name": "python3"
  },
  "language_info": {
   "codemirror_mode": {
    "name": "ipython",
    "version": 3
   },
   "file_extension": ".py",
   "mimetype": "text/x-python",
   "name": "python",
   "nbconvert_exporter": "python",
   "pygments_lexer": "ipython3",
   "version": "3.9.16"
  }
 },
 "nbformat": 4,
 "nbformat_minor": 5
}
